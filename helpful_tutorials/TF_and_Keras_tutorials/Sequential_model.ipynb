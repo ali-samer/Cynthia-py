{
 "cells": [
  {
   "cell_type": "markdown",
   "source": [
    "These notes will explain the tf.keras model: sequential API.\n",
    "The Sequential() model is the simplest one of the three API models offered by tf.keras\n",
    "\"A Sequential() model is a linear pipeline (a stack) of neural network layers.\"\n",
    "This notebook will show how to define a single layer with 10 artificial neurons that expect 784 input variables (features).\n",
    "\n",
    "Importing necessary packages and defining global vars..."
   ],
   "metadata": {
    "collapsed": false
   }
  },
  {
   "cell_type": "code",
   "execution_count": 4,
   "outputs": [],
   "source": [
    "import tensorflow as tf\n",
    "from tensorflow import keras\n",
    "\n",
    "NB_CLASSES = 10\n",
    "RESHAPED = 784"
   ],
   "metadata": {
    "collapsed": false,
    "ExecuteTime": {
     "end_time": "2023-11-19T09:07:25.709944Z",
     "start_time": "2023-11-19T09:07:25.694959Z"
    }
   }
  },
  {
   "cell_type": "markdown",
   "source": [
    "Choosing our model:"
   ],
   "metadata": {
    "collapsed": false
   }
  },
  {
   "cell_type": "code",
   "execution_count": 5,
   "outputs": [],
   "source": [
    "model = tf.keras.models.Sequential()\n",
    "model.add(keras.layers.Dense(\n",
    "    NB_CLASSES,\n",
    "    input_shape=(RESHAPED,),\n",
    "    kernel_initializer='zeros',\n",
    "    name='dense_layer',\n",
    "    activation='softmax'\n",
    "))"
   ],
   "metadata": {
    "collapsed": false,
    "ExecuteTime": {
     "end_time": "2023-11-19T09:07:25.718171Z",
     "start_time": "2023-11-19T09:07:25.703655Z"
    }
   }
  },
  {
   "cell_type": "markdown",
   "source": [
    "Note the net is \"dense\" here, which signifies that each neuron in a layer is connected to all neurons located in the previous layer and to all the neurons in the following layer.\n",
    "\n",
    "The neurons in the previous code block have been initialized with specific weights via the \"kernel_initializer\".\n",
    "\n",
    "Other params:\n",
    "*   random_uniform -> [-0.05 <-> 0.05]\n",
    "*   random_normal  -> Weights initialized  according to a Gaussian distribution     with zero mean and a small standard deviation of 0.05.\n",
    "*   zeros          -> Weights initialized to zeros\n",
    "\n",
    "see (https://www.tensorflow.org/api_docs/python/tf/keras/initializers) for a list of weight initializers"
   ],
   "metadata": {
    "collapsed": false
   }
  },
  {
   "cell_type": "markdown",
   "source": [],
   "metadata": {
    "collapsed": false
   }
  }
 ],
 "metadata": {
  "kernelspec": {
   "display_name": "Python 3",
   "language": "python",
   "name": "python3"
  },
  "language_info": {
   "codemirror_mode": {
    "name": "ipython",
    "version": 2
   },
   "file_extension": ".py",
   "mimetype": "text/x-python",
   "name": "python",
   "nbconvert_exporter": "python",
   "pygments_lexer": "ipython2",
   "version": "2.7.6"
  }
 },
 "nbformat": 4,
 "nbformat_minor": 0
}
